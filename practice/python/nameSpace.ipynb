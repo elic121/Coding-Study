{
 "cells": [
  {
   "cell_type": "code",
   "execution_count": 11,
   "metadata": {},
   "outputs": [
    {
     "name": "stdout",
     "output_type": "stream",
     "text": [
      "0 1 2 3 4 "
     ]
    }
   ],
   "source": [
    "# 변수 N 선언 후 함수에서 사용\n",
    "\n",
    "N = 5\n",
    "\n",
    "def func1():\n",
    "    for i in range(N):\n",
    "        print(i, end=\" \")\n",
    "\n",
    "func1()"
   ]
  },
  {
   "cell_type": "code",
   "execution_count": 15,
   "metadata": {},
   "outputs": [
    {
     "name": "stdout",
     "output_type": "stream",
     "text": [
      "0 1 2 \n",
      "\n"
     ]
    }
   ],
   "source": [
    "# 함수에서 N값 변경 후 사용\n",
    "\n",
    "N = 5\n",
    "\n",
    "def func1():\n",
    "    N = 3\n",
    "    for i in range(N):\n",
    "        print(i, end=\" \")\n",
    "    print(\"\\n\")\n",
    "\n",
    "func1()"
   ]
  },
  {
   "cell_type": "code",
   "execution_count": 16,
   "metadata": {},
   "outputs": [
    {
     "name": "stdout",
     "output_type": "stream",
     "text": [
      "0 1 2 \n",
      "\n",
      "N=3\n"
     ]
    }
   ],
   "source": [
    "# global 선언\n",
    "\n",
    "N = 5\n",
    "\n",
    "def func1():\n",
    "    global N\n",
    "    N = 3\n",
    "    for i in range(N):\n",
    "        print(i, end=\" \")\n",
    "    print(\"\\n\")\n",
    "\n",
    "func1()\n",
    "print(f\"{N=}\")"
   ]
  },
  {
   "cell_type": "code",
   "execution_count": 28,
   "metadata": {},
   "outputs": [
    {
     "name": "stdout",
     "output_type": "stream",
     "text": [
      "locals()['N']=3\n",
      "\n",
      "globals()['N']=5\n"
     ]
    }
   ],
   "source": [
    "N = 5\n",
    "\n",
    "def func1():\n",
    "    N = 3\n",
    "    # local 변수 출력\n",
    "    print(f\"{locals()['N']=}\")\n",
    "\n",
    "func1()\n",
    "\n",
    "# global 변수 출력\n",
    "print(f\"\\n{globals()['N']=}\")"
   ]
  },
  {
   "cell_type": "code",
   "execution_count": 31,
   "metadata": {},
   "outputs": [
    {
     "name": "stdout",
     "output_type": "stream",
     "text": [
      "locals()['N']=3\n",
      "globals()['N']=5\n",
      "func1의 N은 3 -> (local N.S.가 global N.S.보다 우선순위가 높다!)\n",
      "\n",
      "globals()['N']=5\n"
     ]
    }
   ],
   "source": [
    "N = 5\n",
    "\n",
    "def func1():\n",
    "    N = 3\n",
    "    # global, local 변수 출력\n",
    "    print(f\"{locals()['N']=}\")\n",
    "    print(f\"{globals()['N']=}\")\n",
    "    print(f\"func1의 N은 {N} -> (local N.S.가 global N.S.보다 우선순위가 높다!)\")\n",
    "\n",
    "func1()\n",
    "\n",
    "# global 변수 출력\n",
    "print(f\"\\n{globals()['N']=}\")"
   ]
  },
  {
   "cell_type": "code",
   "execution_count": 34,
   "metadata": {},
   "outputs": [
    {
     "ename": "UnboundLocalError",
     "evalue": "cannot access local variable 'N' where it is not associated with a value",
     "output_type": "error",
     "traceback": [
      "\u001b[1;31m---------------------------------------------------------------------------\u001b[0m",
      "\u001b[1;31mUnboundLocalError\u001b[0m                         Traceback (most recent call last)",
      "\u001b[1;32mc:\\Users\\bsh.BAEK\\바탕 화면\\algorithm\\Baekjoon\\tmp\\namespace.ipynb Cell 6\u001b[0m line \u001b[0;36m7\n\u001b[0;32m      <a href='vscode-notebook-cell:/c%3A/Users/bsh.BAEK/%EB%B0%94%ED%83%95%20%ED%99%94%EB%A9%B4/algorithm/Baekjoon/tmp/namespace.ipynb#X11sZmlsZQ%3D%3D?line=3'>4</a>\u001b[0m     N \u001b[39m=\u001b[39m N \u001b[39m+\u001b[39m \u001b[39m1\u001b[39m\n\u001b[0;32m      <a href='vscode-notebook-cell:/c%3A/Users/bsh.BAEK/%EB%B0%94%ED%83%95%20%ED%99%94%EB%A9%B4/algorithm/Baekjoon/tmp/namespace.ipynb#X11sZmlsZQ%3D%3D?line=4'>5</a>\u001b[0m     \u001b[39mprint\u001b[39m(N)\n\u001b[1;32m----> <a href='vscode-notebook-cell:/c%3A/Users/bsh.BAEK/%EB%B0%94%ED%83%95%20%ED%99%94%EB%A9%B4/algorithm/Baekjoon/tmp/namespace.ipynb#X11sZmlsZQ%3D%3D?line=6'>7</a>\u001b[0m func1()\n",
      "\u001b[1;32mc:\\Users\\bsh.BAEK\\바탕 화면\\algorithm\\Baekjoon\\tmp\\namespace.ipynb Cell 6\u001b[0m line \u001b[0;36m4\n\u001b[0;32m      <a href='vscode-notebook-cell:/c%3A/Users/bsh.BAEK/%EB%B0%94%ED%83%95%20%ED%99%94%EB%A9%B4/algorithm/Baekjoon/tmp/namespace.ipynb#X11sZmlsZQ%3D%3D?line=2'>3</a>\u001b[0m \u001b[39mdef\u001b[39;00m \u001b[39mfunc1\u001b[39m():\n\u001b[1;32m----> <a href='vscode-notebook-cell:/c%3A/Users/bsh.BAEK/%EB%B0%94%ED%83%95%20%ED%99%94%EB%A9%B4/algorithm/Baekjoon/tmp/namespace.ipynb#X11sZmlsZQ%3D%3D?line=3'>4</a>\u001b[0m     N \u001b[39m=\u001b[39m N \u001b[39m+\u001b[39m \u001b[39m1\u001b[39m\n\u001b[0;32m      <a href='vscode-notebook-cell:/c%3A/Users/bsh.BAEK/%EB%B0%94%ED%83%95%20%ED%99%94%EB%A9%B4/algorithm/Baekjoon/tmp/namespace.ipynb#X11sZmlsZQ%3D%3D?line=4'>5</a>\u001b[0m     \u001b[39mprint\u001b[39m(N)\n",
      "\u001b[1;31mUnboundLocalError\u001b[0m: cannot access local variable 'N' where it is not associated with a value"
     ]
    }
   ],
   "source": [
    "N = 5\n",
    "\n",
    "def func1():\n",
    "    N = N + 1\n",
    "    print(N)\n",
    "\n",
    "func1()"
   ]
  },
  {
   "cell_type": "code",
   "execution_count": 38,
   "metadata": {},
   "outputs": [
    {
     "name": "stdout",
     "output_type": "stream",
     "text": [
      "locals()={}\n",
      "globals()['N']=3\n"
     ]
    }
   ],
   "source": [
    "N = 5\n",
    "\n",
    "def func1():\n",
    "    global N\n",
    "    N = 3\n",
    "    # global, local 변수 출력\n",
    "    print(f\"{locals()=}\")\n",
    "    print(f\"{globals()['N']=}\")\n",
    "\n",
    "func1()"
   ]
  },
  {
   "cell_type": "code",
   "execution_count": 40,
   "metadata": {},
   "outputs": [
    {
     "name": "stdout",
     "output_type": "stream",
     "text": [
      "[1, 1, 1, 1, 1]\n"
     ]
    }
   ],
   "source": [
    "l = [1,2,3,4,5]\n",
    "\n",
    "def rec(n, l):\n",
    "    if n == len(l):\n",
    "        return\n",
    "    l[n] = 1\n",
    "    rec(n+1, l)\n",
    "\n",
    "rec(0, l)\n",
    "\n",
    "print(l)"
   ]
  }
 ],
 "metadata": {
  "kernelspec": {
   "display_name": "Python 3",
   "language": "python",
   "name": "python3"
  },
  "language_info": {
   "codemirror_mode": {
    "name": "ipython",
    "version": 3
   },
   "file_extension": ".py",
   "mimetype": "text/x-python",
   "name": "python",
   "nbconvert_exporter": "python",
   "pygments_lexer": "ipython3",
   "version": "3.11.1"
  },
  "orig_nbformat": 4
 },
 "nbformat": 4,
 "nbformat_minor": 2
}
